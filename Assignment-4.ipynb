# Q1) Chi-Square test : Association between Device Type and Customer Satisfaction

import numpy as np
from scipy.stats import chi2_contingency #using this for chisquare

# Given data as per the prblem
observed = np.array([
    [50, 70],
    [80, 100],
    [60, 90],
    [30, 50],
    [20, 50]
])

# we are Calculating expected frequencies using the chi-square test of independence
chisquare, PVALUE, dof, expected = chi2_contingency(observed)
print("P-value:", PVALUE.round(4)) #round is used for displaying the value after decimal

# 1. State the Hypotheses(PVALUE):
# Hypotheses: 
# Reject the null hypothesis. There is a significant association between satisfaction and smart thermostat/smart light usage.
# Fail to reject the null hypothesis. There is no significant association between satisfaction and smart thermostat/smart light usage.

# 2. Computing the Chi-Square Statistic:
print("Chi-Square Statistic:", chisquare.round(4))

# 3. Determining the Critical Value:
alpha = 0.05 #given in probelm
critical_value = chi2_contingency(observed)[1] # here chi2_contingency returns a tuple, so we're selecting the p-value from it
degrees_of_freedom = (observed.shape[0] - 1) * (observed.shape[1] - 1)
print("Degrees of Freedom:", degrees_of_freedom)
print("Critical Value:", critical_value.round(4))

# 4. Make a Decision:
if chi2 > critical_value:
    print("Reject the null hypothesis. There is a significant association between satisfaction and smart thermostat/smart light usage.")
else:
    print("Fail to reject the null hypothesis. There is no significant association between satisfaction and smart thermostat/smart light usage.")
*********************************************************************************************************************************************************************************************************************
# Q2) Hypothesis Testing : To investigate the restaurant owners' claim about the increase in weekly operating costs using hypothesis testing.

import scipy.stats as stats

# Given data as per the problem
sample_mean = 3050  # Sample mean weekly cost (Rs.)
theoretical_mean = 1000 + 5 * 600  # Theoretical mean weekly cost according to the model (Rs.)
std_dev = 5 * 25  # Standard deviation (Rs.)
sample_size = 25  # Sample size
alpha = 0.05  # Significance level

# 1. Stating the Hypotheses statement:
# Null Hypothesis (H0): The mean weekly operating cost is equal to the theoretical mean (H0: μ = μ0)
# Alternative Hypothesis (H1): The mean weekly operating cost is higher than the theoretical mean (H1: μ > μ0)

# 2. Calculating the Test Statistic (t-score):
t_score = (sample_mean - theoretical_mean) / (std_dev / (sample_size ** 0.5))

# 3. Determining the Critical Value:
# Degrees of freedom for a one-sample t-test is (n - 1)
degrees_of_freedom = sample_size - 1

# Finding the critical value from the t-distribution
critical_value = stats.t.ppf(1 - alpha, degrees_of_freedom)

# 4. Make a Decision:
# If the test statistic is greater than the critical value, reject the null hypothesis
# Otherwise, fail to reject the null hypothesis
if t_score > critical_value:
    decision = "Reject the null hypothesis"
else:
    decision = "Fail to reject the null hypothesis"

# 5. Conclusion:
# If we reject the null hypothesis, we have evidence to support the claim that the weekly operating costs are higher than the model suggests.
# If we fail to reject the null hypothesis, there is not enough evidence to support the claim.
if t_score > critical_value:
    conclusion = "There is strong evidence to support the restaurant owners' claim that the weekly operating costs are higher than the model suggests."
else:
    conclusion = "There is not enough evidence to support the restaurant owners' claim that the weekly operating costs are higher than the model suggests."

# Output the results
print("Test Statistic (t-score):", t_score)
print("Critical Value:", critical_value.round(5))
print("Decision:", decision)
print("Conclusion:", conclusion)
